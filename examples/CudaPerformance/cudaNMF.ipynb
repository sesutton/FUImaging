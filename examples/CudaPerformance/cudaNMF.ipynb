{
 "cells": [
  {
   "cell_type": "heading",
   "level": 1,
   "metadata": {},
   "source": [
    "Regularized NMF for automatic segmentation of odor maps in the mouse OB"
   ]
  },
  {
   "cell_type": "markdown",
   "metadata": {},
   "source": [
    "This Notebook reproduces results of the manuscript http://dx.doi.org/10.1016/j.neuroimage.2014.04.041. \n",
    "It also allows to inspect the data in more detail."
   ]
  },
  {
   "cell_type": "code",
   "execution_count": 1,
   "metadata": {
    "collapsed": false
   },
   "outputs": [
    {
     "name": "stdout",
     "output_type": "stream",
     "text": [
      "Populating the interactive namespace from numpy and matplotlib\n"
     ]
    }
   ],
   "source": [
    "import sys\n",
    "import os\n",
    "import cPickle as pickle\n",
    "from collections import defaultdict\n",
    "\n",
    "from scipy.spatial.distance import pdist,squareform\n",
    "import scipy.stats as stats\n",
    "import numpy as np\n",
    "import matplotlib.pyplot as plt\n",
    "from matplotlib import gridspec\n",
    "import matplotlib\n",
    "%pylab inline\n",
    "\n",
    "#the datamaker and ImageAnalysisComponents utilities reside two levels above this notebook.\n",
    "utility_path = os.path.realpath(os.path.join(os.path.pardir, os.path.pardir))\n",
    "sys.path.append(utility_path)\n",
    "from regnmf import datamaker\n",
    "from regnmf import ImageAnalysisComponents as ia\n",
    "from regnmf.progress_bar import ProgressBar"
   ]
  },
  {
   "cell_type": "markdown",
   "metadata": {},
   "source": [
    "Define the location of the data. Data can be downloaded from zenodo.org at http://dx.doi.org/10.5281/zenodo.12352 ."
   ]
  },
  {
   "cell_type": "code",
   "execution_count": 2,
   "metadata": {
    "collapsed": true
   },
   "outputs": [],
   "source": [
    "datapath = 'please set the data path' #on my machine it's '../../../../Data'"
   ]
  },
  {
   "cell_type": "heading",
   "level": 2,
   "metadata": {},
   "source": [
    "Surrogate Data"
   ]
  },
  {
   "cell_type": "markdown",
   "metadata": {},
   "source": [
    "For biological data it is generally difficult to asses factorization performance. \n",
    "To obtain nevertheless a detailed picture on the terms of performance for regularized NMF and sICA we constructed a parameterized surrogate dataset. \n",
    "With this dataset we could address two important questions: \n",
    "First, what is the influence of method inherent parameters and their optimal choice? \n",
    "And second, what is the application domain of both methods with respect to strength of pixel noise and size of measured stimuli set? "
   ]
  },
  {
   "cell_type": "heading",
   "level": 4,
   "metadata": {},
   "source": [
    "Create surrogate data"
   ]
  },
  {
   "cell_type": "code",
   "execution_count": 3,
   "metadata": {
    "collapsed": true
   },
   "outputs": [],
   "source": [
    "load_paperdata = False # load the surrogate dataset that was used in the manuscript"
   ]
  },
  {
   "cell_type": "code",
   "execution_count": 4,
   "metadata": {
    "collapsed": true
   },
   "outputs": [],
   "source": [
    "param = {'act_time': [0.01, 0.1, 0.3, 0.8, 1.0, 1.0],\n",
    "         'cov': 0.3,\n",
    "         'latents': 40,\n",
    "         'mean': 0.2,\n",
    "         'no_samples': 50,\n",
    "         'noisevar': 0.2,\n",
    "         'shape': (50, 50),\n",
    "         'width':0.1,\n",
    "         'var': 0.08}"
   ]
  },
  {
   "cell_type": "code",
   "execution_count": 5,
   "metadata": {
    "collapsed": false
   },
   "outputs": [
    {
     "ename": "OSError",
     "evalue": "[Errno 17] File exists: 'please set the data path'",
     "output_type": "error",
     "traceback": [
      "\u001b[0;31m---------------------------------------------------------------------------\u001b[0m",
      "\u001b[0;31mOSError\u001b[0m                                   Traceback (most recent call last)",
      "\u001b[0;32m<ipython-input-5-7c4f303c8e80>\u001b[0m in \u001b[0;36m<module>\u001b[0;34m()\u001b[0m\n\u001b[1;32m      3\u001b[0m \u001b[0;32melse\u001b[0m\u001b[0;34m:\u001b[0m\u001b[0;34m\u001b[0m\u001b[0m\n\u001b[1;32m      4\u001b[0m     \u001b[0mdata\u001b[0m \u001b[0;34m=\u001b[0m \u001b[0mdatamaker\u001b[0m\u001b[0;34m.\u001b[0m\u001b[0mDataset\u001b[0m\u001b[0;34m(\u001b[0m\u001b[0mparam\u001b[0m\u001b[0;34m)\u001b[0m\u001b[0;34m\u001b[0m\u001b[0m\n\u001b[0;32m----> 5\u001b[0;31m     \u001b[0mos\u001b[0m\u001b[0;34m.\u001b[0m\u001b[0mmkdir\u001b[0m\u001b[0;34m(\u001b[0m\u001b[0mdatapath\u001b[0m\u001b[0;34m)\u001b[0m\u001b[0;34m\u001b[0m\u001b[0m\n\u001b[0m",
      "\u001b[0;31mOSError\u001b[0m: [Errno 17] File exists: 'please set the data path'"
     ]
    }
   ],
   "source": [
    "if load_paperdata :\n",
    "    data = pickle.load(open(os.path.join(datapath,'surrogate','data.pik')))\n",
    "else:\n",
    "    data = datamaker.Dataset(param)\n",
    "    os.mkdir(datapath)"
   ]
  },
  {
   "cell_type": "heading",
   "level": 4,
   "metadata": {},
   "source": [
    "Define general layout for figures"
   ]
  },
  {
   "cell_type": "code",
   "execution_count": null,
   "metadata": {
    "collapsed": true
   },
   "outputs": [],
   "source": [
    "# fontsizes\n",
    "global_fs = 10\n",
    "fs_num = 10\n",
    "\n",
    "matplotlib.rcParams['axes.linewidth']=0.4\n",
    "matplotlib.rcParams['axes.edgecolor']='k'\n",
    "\n",
    "matplotlib.rcParams['xtick.major.size']=1     \n",
    "matplotlib.rcParams['xtick.minor.size']=0.5      \n",
    "matplotlib.rcParams['xtick.major.width']=0.3    \n",
    "matplotlib.rcParams['xtick.minor.width']=0.3\n",
    "\n",
    "matplotlib.rcParams['ytick.major.size']=1     \n",
    "matplotlib.rcParams['ytick.minor.size']=0.5      \n",
    "matplotlib.rcParams['ytick.major.width']=0.3    \n",
    "matplotlib.rcParams['ytick.minor.width']=0.3  \n",
    "\n",
    "matplotlib.rcParams['xtick.labelsize']=global_fs\n",
    "matplotlib.rcParams['ytick.labelsize']=global_fs\n",
    "\n",
    "matplotlib.rcParams['text.usetex']=False\n",
    "matplotlib.rcParams['mathtext.default']='regular'"
   ]
  },
  {
   "cell_type": "code",
   "execution_count": null,
   "metadata": {
    "collapsed": true
   },
   "outputs": [],
   "source": [
    "# parameter for visualizing sources\n",
    "cmap_tmp = matplotlib.colors.LinearSegmentedColormap.from_list('tmp', ['w',np.array([147,112,219])/256.,'m','b'])\n",
    "rgb_list = [cmap_tmp(i) for i in np.linspace(0,1,100)]+[plt.cm.jet(i) for i in np.linspace(0,1,101)]\n",
    "cmap_bases = matplotlib.colors.LinearSegmentedColormap.from_list('bases', rgb_list)\n",
    "param_imshow = {'cmap':cmap_bases, 'interpolation':'none', 'vmax':1, 'vmin':-1}\n",
    "\n",
    "# axes layout for time courses\n",
    "def mydecor(ax):\n",
    "    ax.set_ylabel('activation', fontsize=global_fs, labelpad=-0.2)\n",
    "    ax.yaxis.set_tick_params(labelsize=global_fs, labelright=True, labelleft=False)\n",
    "    ax.yaxis.set_label_position('right')\n",
    "    ax.xaxis.set_tick_params(labelsize=global_fs, pad=2)\n",
    "    ax.set_xticks(range(60, 6*50, 60))\n",
    "    \n",
    "# timecourses plotter\n",
    "splitnum = param['no_samples']\n",
    "xparts = np.hsplit(np.arange(splitnum*len(param['act_time'])), splitnum)\n",
    "def timeplot(ax, data):\n",
    "    ax.plot(data, 'o', ms=1.5, mfc='k', mec='none')\n",
    "    for x in xparts:\n",
    "        ax.plot(x, data[x], '--',  dashes=(2,2), linewidth=0.4, color='k')\n",
    "    #ax.set_ylabel('activation', fontsize=global_fs, labelpad=-0.2)\n",
    "    ax.yaxis.set_tick_params(labelsize=global_fs, labelright=True, labelleft=False)\n",
    "    ax.yaxis.set_label_position('right')\n",
    "    ax.xaxis.set_tick_params(labelsize=global_fs, pad=2)\n",
    "    ax.set_xticks(range(60, 6*50, 60))\n",
    "    ax.set_yticks([0,1])\n",
    "\n",
    "def no_ticks(ax):\n",
    "    ax.set_xticks([])\n",
    "    ax.set_yticks([])\n",
    "\n",
    "def little_spines(ax):\n",
    "    ax.spines['top'].set_color('none')\n",
    "    ax.spines['right'].set_color('none')\n",
    "    ax.xaxis.set_ticks_position('bottom')\n",
    "    ax.yaxis.set_ticks_position('left')\n",
    "    \n",
    "def no_spines(ax):\n",
    "    ax.spines['top'].set_color('none')\n",
    "    ax.spines['right'].set_color('none')\n",
    "    ax.spines['bottom'].set_color('none')\n",
    "    ax.spines['left'].set_color('none')\n",
    "    no_ticks(ax)"
   ]
  },
  {
   "cell_type": "heading",
   "level": 3,
   "metadata": {},
   "source": [
    "Surrogate Data Construction"
   ]
  },
  {
   "cell_type": "markdown",
   "metadata": {},
   "source": [
    "To obtain useful conclusions, we've constructed sources resembling the main characteristics of the biological case: \n",
    "Glomeruli are arranged side by side with slightly overlapping spatial signal distribution (Fig. 1a)\n",
    "The response spectra of surrogate glomeruli are narrowly tuned and correlated (Fig. 1b) and each glomeruli rises to peak activation with a model time-course (Fig. 1c). The data to enter factorization is the concurrent observation of forty glomeruli in response to $n_{stim}$ stimuli (e.g. odours) corrupted by additional pixel noise $\\sigma_{\\text{noise}}$. "
   ]
  },
  {
   "cell_type": "code",
   "execution_count": null,
   "metadata": {
    "collapsed": false
   },
   "outputs": [],
   "source": [
    "fig_dim = np.array((3.54, 1.1))*4\n",
    "fig1 = plt.figure(figsize=fig_dim)\n",
    "fig_ratio = fig_dim[0]/fig_dim[1]\n",
    "panel_width = 0.18 \n",
    "panel_bottom = 0.23\n",
    "\n",
    "# ================================================================================\n",
    "# Panel (a)\n",
    "# ================================================================================\n",
    "ax = fig1.add_axes([0.05, panel_bottom, panel_width, panel_width*fig_ratio])\n",
    "ax.text(0.08, 1.03, '(a)', transform=ax.transAxes,\n",
    "      fontsize=fs_num, fontweight='bold', va='bottom', ha='right')\n",
    "# contours\n",
    "for c in data.spt_sources:\n",
    "    ax.contour(c.reshape((50,50))[::-1], [0.5] ,colors=['k'], label='0.3', linewidths=0.4)\n",
    "# centers\n",
    "p = ax.scatter(np.array(data.points)[:param['latents'],1], 49-np.array(data.points)[:param['latents'],0], \n",
    "           marker='x', s=4, label='max', linewidths=0.4)\n",
    "ax.set_xlim([0.5,49.5])\n",
    "ax.set_ylim([-0.5,48.5])\n",
    "ax.set_xticks([])\n",
    "ax.set_yticks([])\n",
    "\n",
    "# =================================================================================\n",
    "# Panel (b)\n",
    "# =================================================================================\n",
    "leftpos = 0.365\n",
    "ax = fig1.add_axes([leftpos, panel_bottom,0.2, panel_width*fig_ratio])\n",
    "ax.text(-0.3, 1.03, '(b)', transform=ax.transAxes,\n",
    "      fontsize=fs_num, fontweight='bold', va='bottom', ha='right')\n",
    "# plot marginal\n",
    "ax.plot(np.arange(1E-2,4,0.001), datamaker.adjusted_gamma(param['mean'], param['var']).pdf(np.arange(1E-2,4,0.001)))\n",
    "ax.set_yscale('log')\n",
    "ax.set_xlabel('$a_{peak}$', fontsize=global_fs, labelpad=0.5)\n",
    "ax.set_xticks([0,1,2,3,4])\n",
    "ax.set_ylabel('pdf', fontsize=global_fs, labelpad=0.5)\n",
    "\n",
    "# plot covariance\n",
    "ax = fig1.add_axes([leftpos+0.1, 0.5, 0.12, 0.12*fig_ratio])\n",
    "im = ax.imshow(data.cov, interpolation='none', vmin=0, vmax=1, cmap=plt.cm.binary)\n",
    "ax.set_xticks([])\n",
    "ax.set_yticks([])\n",
    "axbar = fig1.add_axes([leftpos+0.11+0.12,0.5,0.012,0.12*fig_ratio])\n",
    "# plot covariance colorscale\n",
    "cbar = fig1.colorbar(im, axbar)\n",
    "cbar.set_ticks([0,1])\n",
    "cbar.set_label('$\\\\rho$', size=global_fs, labelpad=-0.5)\n",
    "\n",
    "# ===================================================================================\n",
    "# panel (c)\n",
    "# ===================================================================================\n",
    "ax = fig1.add_axes([0.77,panel_bottom,0.2,panel_width*fig_ratio])\n",
    "ax.text(-0.3, 1.03, '(c)', transform=ax.transAxes,\n",
    "      fontsize=fs_num, fontweight='bold', va='bottom', ha='right')\n",
    "\n",
    "ax.plot(param['act_time'], 'o--', ms=2, mfc='k', linewidth=0.6, color='k', dashes=(2,2))\n",
    "ax.set_xlabel('sample points', fontsize=global_fs, labelpad=1)\n",
    "ax.set_ylim((-0.05, 1.05))\n",
    "ax.set_ylabel('% of $a_{peak}$', fontsize=global_fs, labelpad=-3)\n",
    "ax.set_yticks([0,0.5,1])\n",
    "ax.set_yticklabels([0,50,100])\n",
    "\n",
    "plt.show()"
   ]
  },
  {
   "cell_type": "markdown",
   "metadata": {},
   "source": [
    "__Fig. 1__ Surrogate data (a) 40 Gaussian shaped sources were randomly placed on a regular $9\\times 9$ grid in a $50\\times 50\\text{px}$ image. Crosses mark centres of pixel participation and lines indicate half maximum (HM).\n",
    "(b) The peak activations for each stimulus were drawn from a gamma distribution ($\\mu=0.2$, $\\sigma=0.28$). Inset shows covariance $\\rho$ introduced via a Gaussian copula into the sources' activation.\n",
    "(c) Each stimulus activation was extended to a 6 point model time-course."
   ]
  },
  {
   "cell_type": "code",
   "execution_count": null,
   "metadata": {
    "collapsed": false
   },
   "outputs": [],
   "source": [
    "fig_dim = np.array((3.54, 1.8))*4\n",
    "fig = plt.figure(figsize=fig_dim, dpi=200)\n",
    "for i in range(50):\n",
    "    ax = fig.add_subplot(5,10,i+1)\n",
    "    ax.imshow(data.observed[(i+1)*len(param['act_time'])-1].reshape(param['shape']), interpolation='none', vmin=-2.5, vmax=2.5)\n",
    "    ax.set_xlabel('t=%s'%((i+1)*6), size=global_fs, labelpad=0.5)\n",
    "    ax.set_xticks([])\n",
    "    ax.set_yticks([])\n",
    "plt.show()"
   ]
  },
  {
   "cell_type": "markdown",
   "metadata": {},
   "source": [
    "__Fig. 2__ Observation of the combined signal at peak activation for different stimuli.\n",
    "Signal is corrupted with pixel noise ($\\sigma_{\\text{noise}}=0.2$)."
   ]
  },
  {
   "cell_type": "heading",
   "level": 3,
   "metadata": {},
   "source": [
    "Examplatory Factorizations"
   ]
  },
  {
   "cell_type": "markdown",
   "metadata": {},
   "source": [
    "We started our analysis with a dataset roughly mimicking the properties of our IOS data with $n_{stim}=50$ stimulus observations and a noise level of $\\sigma_{noise}=0.2$.\n",
    "Figure 3 shows exemplary recovered sources from both regularized NMF ($\\alpha_{sm}=2$,  $\\alpha_{sp}=0.5$) and sICA, illustrating the general characteristics of the methods. \n",
    "Regularized NMF indeed showed the desired properties of a localized, sparse and smooth pixel participation, accurately reproducing the spatial and temporal characteristics of the source. \n",
    "In contrast plain sICA (with no additional processing applied) generates more holistic pixel participations, containing global noise contributions besides the local source contribution. \n",
    "This implies a more noisy reconstruction of the activation courses by sICA, especially for weaker signals."
   ]
  },
  {
   "cell_type": "code",
   "execution_count": 6,
   "metadata": {
    "collapsed": true
   },
   "outputs": [],
   "source": [
    "# general NMF param\n",
    "anal_param = {'sparse_param': 0.5,\n",
    "              'factors': 80,\n",
    "              'smooth_param': 2,\n",
    "              'init':'convex', \n",
    "              'sparse_fct':'global_sparse',\n",
    "              'verbose':0\n",
    "              }"
   ]
  },
  {
   "cell_type": "code",
   "execution_count": 14,
   "metadata": {
    "collapsed": false
   },
   "outputs": [
    {
     "name": "stdout",
     "output_type": "stream",
     "text": [
      "Cuda NMF took 0.222958087921s \n",
      "Original NMF took 21.9750089645s \n"
     ]
    },
    {
     "data": {
      "text/plain": [
       "\"\\nsica = ia.sICA(num_components=anal_param['factors']) \\nsica_out = sica(input_data)\\n\""
      ]
     },
     "execution_count": 14,
     "metadata": {},
     "output_type": "execute_result"
    }
   ],
   "source": [
    "input_data = ia.TimeSeries(data.observed, shape=param['shape'])\n",
    "\n",
    "from timeit import default_timer as timer\n",
    "\n",
    "start = timer()\n",
    "nmf_cuda = ia.NNMF_cuda(maxcount=50, num_components=anal_param['factors'], **anal_param)\n",
    "nmf_cuda_out = nmf_cuda(input_data)\n",
    "cudanmftime = timer() - start\n",
    "print \"Cuda NMF took {}s \".format(cudanmftime)\n",
    "\n",
    "start = timer()\n",
    "nmf = ia.NNMF(maxcount=50, num_components=anal_param['factors'], **anal_param)\n",
    "nmf_out = nmf(input_data)\n",
    "defaultnmftime = timer() - start\n",
    "\n",
    "print \"Original NMF took {}s \".format(defaultnmftime)\n",
    "\n",
    "'''\n",
    "sica = ia.sICA(num_components=anal_param['factors']) \n",
    "sica_out = sica(input_data)\n",
    "'''"
   ]
  },
  {
   "cell_type": "code",
   "execution_count": 8,
   "metadata": {
    "collapsed": false
   },
   "outputs": [],
   "source": [
    "nmf_match, nmf_cor, _ = data.cor2source(nmf_out)\n",
    "nmf_cuda_match, nmf_cuda_cor, _ = data.cor2source(nmf_cuda_out)\n",
    "# sica_match, sica_cor, _ = data.cor2source(sica_out)"
   ]
  },
  {
   "cell_type": "code",
   "execution_count": 9,
   "metadata": {
    "collapsed": false
   },
   "outputs": [
    {
     "ename": "NameError",
     "evalue": "name 'param_imshow' is not defined",
     "output_type": "error",
     "traceback": [
      "\u001b[0;31m---------------------------------------------------------------------------\u001b[0m",
      "\u001b[0;31mNameError\u001b[0m                                 Traceback (most recent call last)",
      "\u001b[0;32m<ipython-input-9-21eb2cacea7a>\u001b[0m in \u001b[0;36m<module>\u001b[0;34m()\u001b[0m\n\u001b[1;32m      8\u001b[0m     \u001b[0mgs_temp\u001b[0m \u001b[0;34m=\u001b[0m \u001b[0mmatplotlib\u001b[0m\u001b[0;34m.\u001b[0m\u001b[0mgridspec\u001b[0m\u001b[0;34m.\u001b[0m\u001b[0mGridSpecFromSubplotSpec\u001b[0m\u001b[0;34m(\u001b[0m\u001b[0;36m1\u001b[0m\u001b[0;34m,\u001b[0m \u001b[0;36m2\u001b[0m\u001b[0;34m,\u001b[0m \u001b[0msubplot_spec\u001b[0m\u001b[0;34m=\u001b[0m\u001b[0mgs\u001b[0m\u001b[0;34m[\u001b[0m\u001b[0msource_ind\u001b[0m\u001b[0;34m,\u001b[0m\u001b[0;36m0\u001b[0m\u001b[0;34m]\u001b[0m\u001b[0;34m,\u001b[0m \u001b[0mwidth_ratios\u001b[0m\u001b[0;34m=\u001b[0m\u001b[0;34m[\u001b[0m\u001b[0;36m1\u001b[0m\u001b[0;34m,\u001b[0m\u001b[0;36m4\u001b[0m\u001b[0;34m]\u001b[0m\u001b[0;34m,\u001b[0m \u001b[0mwspace\u001b[0m\u001b[0;34m=\u001b[0m\u001b[0;36m0.01\u001b[0m\u001b[0;34m)\u001b[0m\u001b[0;34m\u001b[0m\u001b[0m\n\u001b[1;32m      9\u001b[0m     \u001b[0max\u001b[0m \u001b[0;34m=\u001b[0m \u001b[0mfig\u001b[0m\u001b[0;34m.\u001b[0m\u001b[0madd_subplot\u001b[0m\u001b[0;34m(\u001b[0m\u001b[0mgs_temp\u001b[0m\u001b[0;34m[\u001b[0m\u001b[0;36m0\u001b[0m\u001b[0;34m]\u001b[0m\u001b[0;34m)\u001b[0m\u001b[0;34m\u001b[0m\u001b[0m\n\u001b[0;32m---> 10\u001b[0;31m     \u001b[0mim\u001b[0m \u001b[0;34m=\u001b[0m \u001b[0max\u001b[0m\u001b[0;34m.\u001b[0m\u001b[0mimshow\u001b[0m\u001b[0;34m(\u001b[0m\u001b[0mdata\u001b[0m\u001b[0;34m.\u001b[0m\u001b[0mspt_sources\u001b[0m\u001b[0;34m[\u001b[0m\u001b[0msource_ind\u001b[0m\u001b[0;34m]\u001b[0m\u001b[0;34m.\u001b[0m\u001b[0mreshape\u001b[0m\u001b[0;34m(\u001b[0m\u001b[0;34m(\u001b[0m\u001b[0;36m50\u001b[0m\u001b[0;34m,\u001b[0m\u001b[0;36m50\u001b[0m\u001b[0;34m)\u001b[0m\u001b[0;34m)\u001b[0m\u001b[0;34m,\u001b[0m \u001b[0;34m**\u001b[0m\u001b[0mparam_imshow\u001b[0m\u001b[0;34m)\u001b[0m\u001b[0;34m\u001b[0m\u001b[0m\n\u001b[0m\u001b[1;32m     11\u001b[0m     \u001b[0max\u001b[0m\u001b[0;34m.\u001b[0m\u001b[0mset_axis_off\u001b[0m\u001b[0;34m(\u001b[0m\u001b[0;34m)\u001b[0m\u001b[0;34m\u001b[0m\u001b[0m\n\u001b[1;32m     12\u001b[0m \u001b[0;34m\u001b[0m\u001b[0m\n",
      "\u001b[0;31mNameError\u001b[0m: name 'param_imshow' is not defined"
     ]
    },
    {
     "data": {
      "image/png": "[encoded data removed]",
      "text/plain": [
       "<matplotlib.figure.Figure at 0x7f2547fea210>"
      ]
     },
     "metadata": {},
     "output_type": "display_data"
    }
   ],
   "source": [
    "figsize = np.array((20,40))\n",
    "fig = plt.figure(figsize=figsize)\n",
    "gs = gridspec.GridSpec(40,3)\n",
    "gs.update(left = 0.01, top = 0.96, bottom = 0.01)\n",
    "\n",
    "for source_ind in range(40):\n",
    "\n",
    "    gs_temp = matplotlib.gridspec.GridSpecFromSubplotSpec(1, 2, subplot_spec=gs[source_ind,0], width_ratios=[1,4], wspace=0.01)\n",
    "    ax = fig.add_subplot(gs_temp[0])\n",
    "    im = ax.imshow(data.spt_sources[source_ind].reshape((50,50)), **param_imshow)\n",
    "    ax.set_axis_off()\n",
    "    \n",
    "    ax = fig.add_subplot(gs_temp[1])\n",
    "    timeplot(ax, data.activation[:,source_ind])\n",
    "\n",
    "    \n",
    "    gs_temp = matplotlib.gridspec.GridSpecFromSubplotSpec(1, 2, subplot_spec=gs[source_ind,1], width_ratios=[1,4], wspace=0.01)\n",
    "    ax = fig.add_subplot(gs_temp[0])\n",
    "    im = ax.imshow(nmf_out.base.shaped2D()[nmf_match[source_ind]], **param_imshow)\n",
    "    ax.set_axis_off()\n",
    "    \n",
    "    ax = fig.add_subplot(gs_temp[1])\n",
    "    timeplot(ax, nmf_out._series[:,nmf_match[source_ind]])\n",
    "    ax.text(10, ax.get_ylim()[1], r'$r^{tmp} = %.2f$'%nmf_cor[source_ind], size=7, va='top')\n",
    "    \n",
    "    gs_temp = matplotlib.gridspec.GridSpecFromSubplotSpec(1, 2, subplot_spec=gs[source_ind,2], width_ratios=[1,4], wspace=0.01)\n",
    "    ax = fig.add_subplot(gs_temp[0])\n",
    "    im = ax.imshow(nmf_cuda_out.base.shaped2D()[nmf_cuda_match[source_ind]], **param_imshow)\n",
    "    ax.set_axis_off()\n",
    "    \n",
    "    ax = fig.add_subplot(gs_temp[1])\n",
    "    timeplot(ax, nmf_cuda_out._series[:,nmf_cuda_match[source_ind]])\n",
    "    ax.text(10, ax.get_ylim()[1], r'$r^{tmp} = %.2f$'%nmf_cuda_cor[source_ind], size=7, va='top')\n",
    "    \n",
    "# colorbar\n",
    "axbar = fig.add_axes([0.01, 0.992, 0.2, 0.003])\n",
    "cbar = fig.colorbar(im, axbar, orientation='horizontal')\n",
    "cbar.set_ticks([-1,0,1])\n",
    "cbar.set_label('pixel participation', size=global_fs, labelpad=2)\n",
    "cbar.ax.xaxis.set_tick_params(labelsize=global_fs, pad=2)\n",
    "\n",
    "fig.text(0.15,0.97,'source')\n",
    "fig.text(0.45,0.97,'NMF')\n",
    "fig.text(0.75,0.97,'NMF_Cuda')\n",
    "# fig.text(0.75,0.97,'sICA')\n",
    "\n",
    "plt.show()"
   ]
  },
  {
   "cell_type": "markdown",
   "metadata": {},
   "source": [
    "__Fig. 3__ Recovered sources in NMF and sICA. First column shows original sources, second column NMF and third column sICA reconstructions. NMF yields a localized source approximation, whereas the sICA component contains small pixel participations in the whole image. Furthermore some sICA components recover the source's activation course less well than the components in the NMF approach."
   ]
  },
  {
   "cell_type": "heading",
   "level": 3,
   "metadata": {},
   "source": [
    "NMF parameter choice"
   ]
  },
  {
   "cell_type": "markdown",
   "metadata": {},
   "source": [
    "NMF factorisation clearly depends on the choice of parameters. \n",
    "To this end we evaluated their influence on factorization results and provide a heuristic for suitable parameter choice."
   ]
  },
  {
   "cell_type": "heading",
   "level": 4,
   "metadata": {},
   "source": [
    "Influence of smoothness parameter"
   ]
  },
  {
   "cell_type": "markdown",
   "metadata": {},
   "source": [
    "We first started with the parameter for smoothness regularisation, $\\alpha_{\\text{sm}}$."
   ]
  },
  {
   "cell_type": "markdown",
   "metadata": {},
   "source": [
    "This cell will take a bit longer to compute, so we're using a progress bar to shorten the wait ;)"
   ]
  },
  {
   "cell_type": "code",
   "execution_count": null,
   "metadata": {
    "collapsed": false
   },
   "outputs": [],
   "source": [
    "# do analysis for different smoothness settings\n",
    "nmf_sm = {}\n",
    "anal_param['sparse_param']=0.\n",
    "parampoints = [{'smooth_param':i} for i in [0., 0.25, 0.5, 1, 2, 4, 8]]\n",
    "pb = ProgressBar(len(parampoints))\n",
    "pb.animate(0)\n",
    "for npa,pa in enumerate(parampoints):\n",
    "    anal_param.update(pa)\n",
    "    # calculate  \n",
    "    nmf = ia.NNMF(maxcount=50, num_components=anal_param['factors'])\n",
    "    nmf.param.update(anal_param)\n",
    "    nmf_out = nmf(ia.TimeSeries(data.observed, shape=param['shape']))\n",
    "    nmf_sm['nmf_sm'+str(pa['smooth_param'])] = nmf_out\n",
    "    pb.animate(npa+1)"
   ]
  },
  {
   "cell_type": "code",
   "execution_count": null,
   "metadata": {
    "collapsed": false
   },
   "outputs": [],
   "source": [
    "n_bases = 20 #number of bases to show\n",
    "fig = plt.figure(figsize=(1*len(nmf_sm), 1*n_bases))\n",
    "gs = gridspec.GridSpec(n_bases, len(nmf_sm))\n",
    "gs.update(left=0.01, right=0.99, top=0.98, bottom=0.01)\n",
    "for k_ix, k in enumerate(np.sort(nmf_sm.keys())):\n",
    "    for base_ix, base in enumerate(nmf_sm[k].base.shaped2D()[:n_bases]):\n",
    "        ax = fig.add_subplot(gs[base_ix, k_ix])\n",
    "        im = ax.imshow(base, **param_imshow)\n",
    "        ax.set_axis_off()\n",
    "        if base_ix ==0:\n",
    "            ax.set_title(k, size=10)\n",
    "plt.show()"
   ]
  },
  {
   "cell_type": "markdown",
   "metadata": {},
   "source": [
    "__Fig.4__ NMF components ($k=80$, $\\alpha_{\\text{sp}}=0$) influenced by increasing smoothness regularisation. Small scale structures were progressively disappearing."
   ]
  },
  {
   "cell_type": "heading",
   "level": 4,
   "metadata": {},
   "source": [
    "Influence of sparseness parameter"
   ]
  },
  {
   "cell_type": "markdown",
   "metadata": {},
   "source": [
    "Even with strong smoothness regularisation components contain contributions from different sources. Therefore we additionally introduce sparseness regularisation $\\alpha_{\\text{sp}}>0$, which regulates the number of components a pixel is participating. With regularisation too low a source is covered by multiple components. Under moderate regularisation, a component exactly describes a single source (Fig. 5) and a source is covered exactly by a single component. \n",
    "But setting $\\alpha_{\\text{sp}}$ too high results in disrupted components as any source overlap regions were prevented by the regularisation."
   ]
  },
  {
   "cell_type": "code",
   "execution_count": null,
   "metadata": {
    "collapsed": false
   },
   "outputs": [],
   "source": [
    "# do example factorization for different sparseness settings\n",
    "nmf_sp = {}\n",
    "anal_param['smooth_param']=2.\n",
    "sparseness = [{'sparse_param':0.125}, {'sparse_param':0.5}, {'sparse_param':2}, {'sparse_param':4}]\n",
    "pb = ProgressBar(len(sparseness))\n",
    "pb.animate(0)\n",
    "for spi,sp in enumerate(sparseness):\n",
    "    anal_param.update(sp)\n",
    "    # calculate  \n",
    "    nmf = ia.NNMF(maxcount=50, num_components=anal_param['factors'])\n",
    "    nmf.param.update(anal_param)\n",
    "    out = nmf(ia.TimeSeries(data.observed, shape=param['shape']))\n",
    "    nmf_sp['nmf_sp'+str(sp['sparse_param'])] = out\n",
    "    pb.animate(spi+1)"
   ]
  },
  {
   "cell_type": "code",
   "execution_count": null,
   "metadata": {
    "collapsed": false
   },
   "outputs": [],
   "source": [
    "n_bases = 10 #number of bases to show\n",
    "figsize = np.array((1*len(nmf_sp), 1*n_bases))*2\n",
    "fig = plt.figure(figsize=figsize)\n",
    "gs = gridspec.GridSpec(n_bases+1, len(nmf_sp))\n",
    "gs.update(left=0.03, right=0.99, top=1-0.4/(n_bases+1), bottom=0.02)\n",
    "#show contours of all bases\n",
    "for k_ix, k in enumerate(np.sort(nmf_sp.keys())):\n",
    "    ax = fig.add_subplot(gs[0, k_ix], aspect='equal')\n",
    "    for base_ix, base in enumerate(nmf_sp[k].base.shaped2D()):\n",
    "        im = ax.contour(base[::-1], [0.5],  colors=['k'], alpha=0.5)\n",
    "        ax.set_xticks([])\n",
    "        ax.set_yticks([])\n",
    "        if base_ix ==0:\n",
    "            ax.set_title(k, size=10)\n",
    "# show single bases\n",
    "for k_ix, k in enumerate(np.sort(nmf_sp.keys())):\n",
    "    for base_ix, base in enumerate(nmf_sp[k].base.shaped2D()[:n_bases]):\n",
    "        ax = fig.add_subplot(gs[base_ix+1, k_ix])\n",
    "        im = ax.imshow(base, **param_imshow)\n",
    "        ax.set_axis_off()\n",
    "plt.show()"
   ]
  },
  {
   "cell_type": "markdown",
   "metadata": {},
   "source": [
    "__Fig. 5__ NMF components with increasing sparseness regularisation. First row shows half maximum contours of all components. Further rows show pixel participation of single components. With regularisation too low a source is covered by multiple components. Strongly regularized components cover only part of the source."
   ]
  },
  {
   "cell_type": "markdown",
   "metadata": {},
   "source": [
    "To further quantify the effect of sparseness regularization we employ two measures. First, we exploit our knowledge on the actual sources and calculate their recovery $SR_{k}$ by the components. \n",
    "Second, we measure shared explanation of pixel groups in multiple components via spatial correlation between components $r_{k}^{\\text{comp}}$. \n",
    "This is an uninformed measure not depending on any knowledge of actual sources, and hence is also applicable when the ground truth is not known, i.e. in real experimental data.\n",
    "It shows, that the range of maximal source recovery is in a regime where all strong component correlations became eliminated but some residual correlation is left."
   ]
  },
  {
   "cell_type": "code",
   "execution_count": null,
   "metadata": {
    "collapsed": true
   },
   "outputs": [],
   "source": [
    "num_testsets = 5\n",
    "datasets = [datamaker.Dataset(param) for dummy in range(num_testsets)]"
   ]
  },
  {
   "cell_type": "markdown",
   "metadata": {},
   "source": [
    "The next cell takes rather long to compute. Depending on your hardware, it will easily take 20 minutes or more. "
   ]
  },
  {
   "cell_type": "code",
   "execution_count": null,
   "metadata": {
    "collapsed": false
   },
   "outputs": [],
   "source": [
    "#This takes quite a long time (>20 min, depending on your hardware).\n",
    "#Consider loading the cached results below.\n",
    "\n",
    "sp_param = [0]+ [2**i for i in np.arange(-7,3)]\n",
    "sp_cors, st_cors, max_basecor, mse, mse_local = [defaultdict(list) for i in range(5)]\n",
    "\n",
    "pb = ProgressBar(len(datasets)*len(sp_param))\n",
    "pb.animate(0)\n",
    "\n",
    "for dsi,dataset in enumerate(datasets):\n",
    "    \n",
    "    #do NMF with different sparseness\n",
    "    for spi,sp in enumerate(sp_param):\n",
    "        key = 'nmf_'+str(sp)        \n",
    "        anal_param.update({'sparse_param':sp})\n",
    "        factors = anal_param['factors']\n",
    "        # calculate  \n",
    "        nmf = ia.NNMF(maxcount=50, num_components=factors)\n",
    "        nmf.param.update(anal_param)\n",
    "        nmf_out = nmf(ia.TimeSeries(dataset.observed, shape=param['shape']))       \n",
    "       \n",
    "        #performance criteria\n",
    "        _, st_cor, sp_cor = dataset.cor2source(nmf_out)\n",
    "        sp_cors[key].append(sp_cor)\n",
    "        st_cors[key].append(st_cor)\n",
    "        max_basecor[key].append(np.nanmax(np.corrcoef(nmf_out.base._series) - np.diag(np.ones(factors)),0))      \n",
    "        mse[key].append(dataset.mse2source(nmf_out))\n",
    "        mse_local[key].append(dataset.mse2source(nmf_out, local=0.05))\n",
    "        pb.animate(dsi*len(sp_param) + spi +1)"
   ]
  },
  {
   "cell_type": "markdown",
   "metadata": {},
   "source": [
    "Use the two cells below if you want to save/load this data, so you won't have to recalculate it next time. "
   ]
  },
  {
   "cell_type": "code",
   "execution_count": null,
   "metadata": {
    "collapsed": true
   },
   "outputs": [],
   "source": [
    "# This is used to save the generated results.\n",
    "#import cPickle\n",
    "#cached_data = (datasets, sp_param, sp_cors, st_cors, max_basecor, mse, mse_local)\n",
    "#cPickle.dump(cached_data, open('cached_data_for_spatial_component_corr.pik','w'))"
   ]
  },
  {
   "cell_type": "code",
   "execution_count": null,
   "metadata": {
    "collapsed": true
   },
   "outputs": [],
   "source": [
    "# This is to load cached data instead\n",
    "#import cPickle\n",
    "#datasets, sp_param, sp_cors, st_cors, max_basecor, mse, mse_local = cPickle.load(open('cached_data_for_spatial_component_corr.pik'))"
   ]
  },
  {
   "cell_type": "code",
   "execution_count": null,
   "metadata": {
    "collapsed": false
   },
   "outputs": [],
   "source": [
    "figsize = np.array((2,2))*3\n",
    "fig = plt.figure(figsize=figsize)\n",
    "ax = fig.add_axes([0.15,0.25,0.8,0.7])\n",
    "\n",
    "\n",
    "mykeyorder = np.sort(['nmf_'+str(sp) for sp in sp_param])\n",
    "x = np.arange(len(mykeyorder))\n",
    "\n",
    "mean_SR = [[1-np.mean(i) for i in mse[k]] for k in mykeyorder]\n",
    "ax.plot(x, [np.mean(i) for i in mean_SR], ':og',  mec='none', ms=3,  linewidth=0.5, dashes=(2,2), label='mean $SR_k$')\n",
    "ax.errorbar(x, [np.mean(i) for i in mean_SR], yerr = [np.std(i) for i in mean_SR],  fmt=\"none\", linewidht=0.5,\n",
    "             ecolor='g', elinewidth=0.5, capsize=1)\n",
    "\n",
    "\n",
    "basecor = [[np.max(i) for i in max_basecor[k]] for k in mykeyorder]\n",
    "ax.plot(x, [np.mean(i) for i in basecor], ':sb', mec='none', ms=3, linewidth=0.5, dashes=(2,2), label='max $r^{comp}_k$')\n",
    "ax.errorbar(x, [np.mean(i) for i in basecor], yerr = [np.std(i) for i in basecor], \n",
    "            fmt=\"none\", linewidht=0.5, ecolor='b', elinewidth=0.5, capsize=1)\n",
    "\n",
    "\n",
    "# Axes Decoration\n",
    "ax.set_xticks(x)\n",
    "ax.set_xticklabels(['0']+['$2^{%d}$'%i for i in np.log2(sp_param[1:])], size=global_fs, rotation='45') \n",
    "ax.set_xlim([-0.5, len(mykeyorder)-0.5])\n",
    "ax.set_yticks([0, 0.5, 1])\n",
    "ax.set_ylim([0,1.05])\n",
    "ax.set_yticklabels(['0', '.5', '1'], size=global_fs) \n",
    "ax.yaxis.set_tick_params(labelsize=global_fs, pad=2)\n",
    "little_spines(ax)\n",
    "ax.set_xlabel('$\\\\alpha_{sp}$', labelpad=2, size=global_fs)\n",
    "ax.legend(prop={'size':global_fs}, numpoints=1, loc = 'upper left', labelspacing=0.1, handletextpad=0.2, \n",
    "          bbox_to_anchor = (0.65, 0.95), borderaxespad=0, frameon=False)\n",
    "plt.show()"
   ]
  },
  {
   "cell_type": "markdown",
   "metadata": {},
   "source": [
    "__Fig. 6__ Maximal spatial component correlation $r^{comp}$ and it's standard deviation over dataset instances (blue) respectively mean recovery $SR_k$ (green) in dependence of $\\alpha_{\\text{sp}}$ ($k=80$, $\\alpha_{\\text{sm}}=2$).\n",
    "Source recovery becomes maximal in the regime where maximal component correlation is strongly decreasing.   "
   ]
  },
  {
   "cell_type": "heading",
   "level": 3,
   "metadata": {},
   "source": [
    "High temporal accuracy of NMF components"
   ]
  },
  {
   "cell_type": "markdown",
   "metadata": {},
   "source": [
    "To become a better understanding of the measure source recorvery SR, we also take a look at temporal and spatial correlation of source to components.\n",
    "It shows that exspecially temporal accuracy is very high, even for components with moderate source recovery values and hence some spatial inaccuracy. "
   ]
  },
  {
   "cell_type": "code",
   "execution_count": null,
   "metadata": {
    "collapsed": false
   },
   "outputs": [],
   "source": [
    "figsize = np.array((2,2))*2\n",
    "fig = plt.figure(figsize=figsize)\n",
    "gs = gridspec.GridSpec(2,2, width_ratios=[2,1], height_ratios=[1,2], hspace=0.02, wspace=0.02)\n",
    "gs.update(left=0.2, right=0.95, top=0.95, bottom=0.2)\n",
    "\n",
    "toplot = 'nmf_0.5'\n",
    "\n",
    "x = st_cors[toplot]\n",
    "y = np.nanmax(sp_cors[toplot],1)\n",
    "\n",
    "axlim = np.floor(10*np.min(np.array([x,y])))/10. #set lower limit of axes\n",
    "\n",
    "#marginal distribution of x\n",
    "ax = fig.add_subplot(gs[0,0])\n",
    "ax.hist(np.hstack(x), bins = np.arange(axlim,1.001,0.1), edgecolor='none', histtype='stepfilled')\n",
    "ax.set_xlim((axlim,1))\n",
    "ax.set_ylim((0,len(np.hstack(x))))\n",
    "no_spines(ax)\n",
    "\n",
    "#marginal distribution of y\n",
    "ax = fig.add_subplot(gs[1,1])\n",
    "ax.hist(np.hstack(y), bins = np.arange(axlim,1.001,0.1), edgecolor='none', histtype='stepfilled', orientation='horizontal')\n",
    "ax.set_xlim((0,len(np.hstack(y))))\n",
    "ax.set_ylim((axlim,1))\n",
    "no_spines(ax)\n",
    "\n",
    "#scatter plot x vs y\n",
    "ax = fig.add_subplot(gs[1,0])\n",
    "mse_color = [plt.cm.RdYlGn(i/0.8) for i in (1-np.hstack(mse[toplot]))]\n",
    "ax.scatter(x, y, marker='o', linewidths=0.4, s=10, facecolors= mse_color, edgecolors=mse_color)\n",
    "\n",
    "# decorate axes\n",
    "ax.plot([axlim, 1], [axlim,1], 'k:', lw=0.5)\n",
    "ax.set_ylim((axlim,1))\n",
    "ax.set_xlim((axlim,1))\n",
    "ax.set_xticks((axlim,1))\n",
    "ax.set_xticks(np.arange(axlim,1,0.05), minor=True)\n",
    "ax.set_yticks((axlim,1))\n",
    "ax.set_yticks(np.arange(axlim,1,0.05), minor=True)\n",
    "ax.set_ylabel(r'$r^{spt}$', fontsize=global_fs+2, labelpad=-4)\n",
    "ax.set_xlabel(r'$r^{tmp}$', fontsize=global_fs+2, labelpad=-4)\n",
    "\n",
    "#labeling of histograms\n",
    "ax = fig.add_subplot(gs[0,1])\n",
    "ax.set_xlim((0,100))\n",
    "ax.set_ylim((0,100))\n",
    "ax.set_yticks([100])\n",
    "ax.set_xticks([100])\n",
    "little_spines(ax)\n",
    "ax.xaxis.set_tick_params(direction='inout')\n",
    "ax.yaxis.set_tick_params(direction='inout')\n",
    "ax.set_xticklabels([])\n",
    "ax.set_yticklabels([])\n",
    "ax.text(1, 100, '100%', fontsize=global_fs, va='center')\n",
    "ax.text(100, 5, '100%', fontsize=global_fs, rotation='270', va='bottom', ha='center')\n",
    "plt.show()"
   ]
  },
  {
   "cell_type": "markdown",
   "metadata": {},
   "source": [
    "__Fig. 7__ Spatial and temporal correlation of matched components ($k=80$, $\\alpha_{\\text{sm}}=2$, $\\alpha_{\\text{sp}}=0.5$) to 200 sources of five dataset instances. The color of each dot indicates the corresponding SR value. Histograms depict marginal distribution for both axes.\n",
    "Especially temporal reconstruction was very precise for almost all sources whereas lower SR values stemmed from inaccurate spatial reconstruction."
   ]
  },
  {
   "cell_type": "heading",
   "level": 3,
   "metadata": {},
   "source": [
    "Comparison of NMF and sICA"
   ]
  },
  {
   "cell_type": "markdown",
   "metadata": {},
   "source": [
    "To benchmark regularized NMF we performed sICA on the same dataset instances. \n",
    "In sICA both spatial and temporal reconstruction of sources were more noisy (see Fig. 3). \n",
    "The many but small non-local values for pixel participation lower the previously used measure of source recovery for sICA to less accurate values than actually could be achieved by simple post-processing like thresholding. \n",
    "To account for such post-processing and enable a fair comparison we only computed source recovery for localized sICA components ($\\text{sICA}^{\\text{loc}}$).\n",
    "Nonetheless $\\text{sICA}^{\\text{loc}}$ components showed significantly lower source recovery than NMF components (Fig. 7a).\n",
    "The advantage of NMF especially stood out in the temporal reconstruction of sources (Fig. 7b).\n",
    "Whereas lower source recovery values in NMF still implied a precise temporal source reconstruction, this was not the case for sICA. "
   ]
  },
  {
   "cell_type": "code",
   "execution_count": null,
   "metadata": {
    "collapsed": true
   },
   "outputs": [],
   "source": [
    "for dataset in datasets:\n",
    "\n",
    "    factors = anal_param['factors']\n",
    "    key = 'sica_%d'%factors\n",
    "    # calculate  \n",
    "    sica = ia.sICA(num_components=factors) \n",
    "    sica_out = sica(ia.TimeSeries(dataset.observed, shape=param['shape']))    \n",
    "       \n",
    "    #performance criteria\n",
    "    _, st_cor, sp_cor = dataset.cor2source(sica_out)\n",
    "    sp_cors[key].append(sp_cor)\n",
    "    st_cors[key].append(st_cor)\n",
    "    max_basecor[key].append(np.nanmax(np.corrcoef(sica_out.base._series) - np.diag(np.ones(factors)),0))      \n",
    "    mse[key].append(dataset.mse2source(sica_out))\n",
    "    mse_local[key].append(dataset.mse2source(sica_out, local=0.05))"
   ]
  },
  {
   "cell_type": "code",
   "execution_count": null,
   "metadata": {
    "collapsed": false
   },
   "outputs": [],
   "source": [
    "figsize= np.array((3,1.5))*3\n",
    "fig = plt.figure(figsize=figsize)\n",
    "\n",
    "gs = gridspec.GridSpec(1,2)\n",
    "gs.update(left=0.1, right=0.95, top=0.85, bottom=0.2, wspace=0.5)        \n",
    "\n",
    "#plot SR distributions for 'toplot' and sica_80\n",
    "ax = fig.add_subplot(gs[0])\n",
    "ax.text(-0.06, 1.05, '(a)', transform=ax.transAxes,\n",
    "      fontsize=fs_num, fontweight='bold', va='bottom', ha='right')\n",
    "ax.hist(1-np.hstack(mse[toplot]), np.linspace(0,1,21), edgecolor='none', facecolor='0.7', label='NMF')\n",
    "ax.hist(1-np.hstack(mse_local['sica_80']), np.linspace(0,1,21), histtype='step', color='k', label='$sICA^{loc}}$')\n",
    "\n",
    "# Decorate\n",
    "ax.set_ylabel('#', fontsize=global_fs, labelpad=0)\n",
    "ax.set_xlabel('$SR_k$', fontsize=global_fs, labelpad=2)\n",
    "little_spines(ax)\n",
    "ax.yaxis.set_tick_params(pad=2, labelsize=global_fs)\n",
    "ax.xaxis.set_tick_params(pad=2, labelsize=global_fs)\n",
    "ax.set_xticks([0,0.4,0.8])\n",
    "ax.legend(prop={'size':global_fs}, numpoints=1, loc = 'upper left', labelspacing=-0.2, handletextpad=0.2, \n",
    "                bbox_to_anchor = (0.025, 1.04), borderaxespad=0, frameon=False)\n",
    " \n",
    "#plot temporal reconstruction for 'toplot' and sica_80\n",
    "ax = fig.add_subplot(gs[1])\n",
    "ax.text(-0.1, 1.05, '(b)', transform=ax.transAxes,\n",
    "      fontsize=fs_num, fontweight='bold', va='bottom', ha='right')\n",
    "ax.plot(np.hstack(st_cors['sica_80']), np.hstack(st_cors[toplot]), '.k', ms=5, mfc='none')\n",
    "ax.plot([0,1],[0,1], ':', color='0.5', lw=0.4)\n",
    "\n",
    "# Decorate\n",
    "ax.set_ylabel('$r^{tmp}_{NMF}$', fontsize=global_fs, labelpad=-5)\n",
    "ax.set_xlabel('$r^{tmp}_{sICA}$', fontsize=global_fs, labelpad=-5)\n",
    "little_spines(ax)\n",
    "ax.yaxis.set_tick_params(pad=2)\n",
    "ax.yaxis.set_tick_params(pad=2, labelsize=global_fs)\n",
    "ax.set_yticks([0,1])\n",
    "ax.set_yticks([0.25,0.5,0.75], minor=True)\n",
    "ax.xaxis.set_tick_params(pad=2, labelsize=global_fs)\n",
    "ax.set_xticks([0,1])\n",
    "ax.set_yticks([0.25,0.5,0.75], minor=True)\n",
    "\n",
    "plt.show()"
   ]
  },
  {
   "cell_type": "markdown",
   "metadata": {},
   "source": [
    "__Fig. 7__\n",
    "(a) Distribution of source recovery $SR_k$ for NMF (solid grey, $k=80$, $\\alpha_{\\text{sm}}=2$, $\\alpha_{\\text{sp}}=0.5$) and localized sICA components $\\text{sICA}^{\\text{loc}}$ (black line, $k=80$) in five instances of the surrogate dataset.\n",
    "(b) Temporal correlation $r^{\\text{tmp}}$ of actual sources to NMF and sICA components. NMF components exhibited a more precise temporal reconstruction of sources.."
   ]
  },
  {
   "cell_type": "heading",
   "level": 2,
   "metadata": {},
   "source": [
    "IOS Data"
   ]
  },
  {
   "cell_type": "markdown",
   "metadata": {},
   "source": [
    "The surrogate data provided insight into application domain of the methods and yielded a heuristic for parameter choice. \n",
    "But the *in-vivo* IOS data is a lot more complex. With respect to spatial characteristics, glomeruli have varying size and shapes and also the exact spatial signal distribution is unknown. \n",
    "Furthermore the temporal characteristics of glomeruli do not obey an unique probability distribution but vary strongly in overall peak activation strength and odour selectivity. "
   ]
  },
  {
   "cell_type": "code",
   "execution_count": null,
   "metadata": {
    "collapsed": true
   },
   "outputs": [],
   "source": [
    "prepro_param = {'baseline_cut':(0,10),\n",
    "                'temporal_binning':12,\n",
    "                'low_pass':1,\n",
    "                'high_pass':10,\n",
    "                'spatial_subsamp':2}\n",
    "more_param = {'odor_response':(2,5), #range of frames which are averaged to yield odor response}\n",
    "              'snapshot': (3,4)} #frames to plot as odor images"
   ]
  },
  {
   "cell_type": "heading",
   "level": 3,
   "metadata": {},
   "source": [
    "Experiments"
   ]
  },
  {
   "cell_type": "heading",
   "level": 4,
   "metadata": {},
   "source": [
    "IOS imaging and preprocessing"
   ]
  },
  {
   "cell_type": "markdown",
   "metadata": {},
   "source": [
    "OMP-SpH-mice were anaesthetized using urethane. All animal care and procedures were in accordance with the animal ethics guidelines of the Max Planck Society.\n",
    " \n",
    "Odour molecules reached the nose $2.5\\pm0.3\\text{s}$ after recording onset as measured by a Photoionization detector.\n",
    "In each animal the response to a stimulus set of 48 to 49 odours was recorded. \n",
    "Each odour stimulus was repeated at least twice and stimuli were represented in a pseudo-randomized sequence."
   ]
  },
  {
   "cell_type": "markdown",
   "metadata": {},
   "source": [
    "To increase signal-to-noise ratio and reduce computational load the raw data was preprocessed. \n",
    "First we applied an $8\\times8\\text{px}$ spatial and a $12$ frame temporal binning ('raw' data available in this notebook already was spatially binned $4\\times4\\text{px}$ to save storage). \n",
    "Then the odour induced activation was calculated as the relative decrease of reflectance $-\\Delta R / R = -(R-R_0)/R$. \n",
    "$R_0$ is the mean reflectance until $2s$ after recording onset. \n",
    "Furthermore the data was spatially bandpass filtered with two Gaussian filters ($\\sigma_{\\text{low}}=10\\text{px}$, $\\sigma_{\\text{high}}=1\\text{px}$) and down-sampled by a factor of 2. "
   ]
  },
  {
   "cell_type": "code",
   "execution_count": null,
   "metadata": {
    "collapsed": true
   },
   "outputs": [],
   "source": [
    "measids = ['111210sph','111222sph','111221sph']\n",
    "ios_data = defaultdict(dict)\n",
    "\n",
    "for measid in measids:\n",
    "    \n",
    "    filename = os.path.join(datapath,measid,'timeseries')\n",
    "    ts = ia.TimeSeries()\n",
    "    ts.load(filename)\n",
    "    \n",
    "    #preprocess:\n",
    "    #relative change\n",
    "    baseline = ia.TrialMean()(ia.CutOut(prepro_param['baseline_cut'])(ts))\n",
    "    ts = ia.RelativeChange()(ia.TrialMean(ts.num_timepoints/prepro_param['temporal_binning'])(ts), baseline)\n",
    "    #bandpass\n",
    "    lowpassed = ia.Filter('gauss', prepro_param['low_pass'], downscale=prepro_param['spatial_subsamp'])(ts)\n",
    "    highpassed = ia.Filter('gauss', prepro_param['high_pass'], downscale=prepro_param['spatial_subsamp'])(ts)\n",
    "    ts = ia.Combine(np.subtract)(lowpassed, highpassed)\n",
    "    # scale to positive activation and to promille values\n",
    "    ts._series *= -1000\n",
    "    \n",
    "    ios_data[measid]['ts'] = ts\n",
    "    ios_data[measid]['bg'] = plt.imread(os.path.join(datapath, measid, 'green.png'))\n",
    "    ios_data[measid]['gloms'] = pickle.load(open(os.path.join(datapath, 'anatomical_outlines.pik')))[measid]"
   ]
  },
  {
   "cell_type": "code",
   "execution_count": null,
   "metadata": {
    "collapsed": false
   },
   "outputs": [],
   "source": [
    "# plot image maps\n",
    "toplot = '111210sph'\n",
    "image_maps = ia.TrialMean()(ia.CutOut(more_param['snapshot'])(ios_data[toplot]['ts']))\n",
    "odournames = pickle.load(open(os.path.join(datapath,'odournames.pik')))\n",
    "\n",
    "dim2 = int(np.ceil(image_maps.num_stimuli/10.))\n",
    "fig_dim = np.array((10, 1*dim2*0.75))*1.8\n",
    "fig = plt.figure(figsize=fig_dim)\n",
    "\n",
    "old_name = 'name'\n",
    "for ix, i_map in enumerate(image_maps.shaped2D()):\n",
    "    ax = fig.add_subplot(dim2, 10,  ix+1)\n",
    "    im_h = ax.imshow(i_map, interpolation='none', vmin=-np.max(i_map))\n",
    "    ax.set_ylabel('max: %.1f'%np.max(i_map), size=global_fs, labelpad=0)\n",
    "    odour = odournames[image_maps.label_stimuli[ix]]\n",
    "    if old_name != odour:\n",
    "        ax.set_title(odour, size=9, y=0.95, ha='left')\n",
    "    old_name = odour\n",
    "    no_ticks(ax)\n",
    "\n",
    "axbar = fig.add_axes([0.05,0.85,0.01,0.1])       \n",
    "cbar = fig.colorbar(im_h, axbar)\n",
    "cbar.set_ticks([0,np.max(i_map)])\n",
    "cbar.set_ticklabels([0,'max'])\n",
    "\n",
    "plt.show()"
   ]
  },
  {
   "cell_type": "markdown",
   "metadata": {},
   "source": [
    "__Fig. 8__ Examples of odour response maps: Mean $-\\Delta R/R$ 6s after odour delivery. Images are scaled to maximal pixel activation (indicated on the left of each image). "
   ]
  },
  {
   "cell_type": "heading",
   "level": 4,
   "metadata": {},
   "source": [
    "Anatomical glomeruli outline"
   ]
  },
  {
   "cell_type": "markdown",
   "metadata": {},
   "source": [
    "As we don't know the ground truth in the biological case, we additionaly performed 2-photon synapto-pHluorin imaging of the resting fluorescence to obtain anatomical glomeruli outlines. We then manually outlined glomeruli in the Z-stacks\n",
    "The outlines did not provide full information on the actual pixel participation of glomeruli but rather binary information on glomerular position. \n",
    "Furthermore the exact position was possibly impaired by the manual outlining process and the alignment of functional and anatomical pictures. \n",
    "This made it difficult to derive objective quality criteria but allowed for visual inspection of match between outlined glomeruli and extracted components."
   ]
  },
  {
   "cell_type": "code",
   "execution_count": null,
   "metadata": {
    "collapsed": false
   },
   "outputs": [],
   "source": [
    "figsize = np.array((3,2))*3\n",
    "fig = plt.figure(figsize=figsize)\n",
    "ax = fig.add_subplot(111)\n",
    "\n",
    "ax.imshow(ios_data[toplot]['bg'], interpolation='none', cmap=plt.cm.bone, vmin=-1, vmax=1, extent=[0, 83, 0, 63])\n",
    "no_ticks(ax)\n",
    "ax.hold(True)\n",
    "for r in ios_data[toplot]['gloms']:\n",
    "    ax.contour(r, [0.3], extent=[0, 83, 63, 0], colors=['y'], linewidths=2)\n",
    "plt.show()"
   ]
  },
  {
   "cell_type": "markdown",
   "metadata": {},
   "source": [
    "__Fig 9__ Glomeruli outlines (yellow) aligned to green image of the dorsal OB."
   ]
  },
  {
   "cell_type": "heading",
   "level": 3,
   "metadata": {},
   "source": [
    "Matrix Factorization"
   ]
  },
  {
   "cell_type": "markdown",
   "metadata": {},
   "source": [
    "So, did our general observations on the surrogate dataset still held for the IOS data?   \n",
    "To answer this, we performed sICA and NMF for three exemplary measurements according to our deduced heuristic. \n",
    "We chose $k=150$, well above the approximately activated sixty glomeruli. \n",
    "Additionally in NMF we set $\\alpha_{\\text{sm}}=2$ to avoid one-pixel scale structures and $\\alpha_{\\text{sp}}=0.5$, necessary for removing any component correlation above 0.5. "
   ]
  },
  {
   "cell_type": "code",
   "execution_count": null,
   "metadata": {
    "collapsed": true
   },
   "outputs": [],
   "source": [
    "nmf_param = {'config_name': 'nmf150_sp05_sm2',\n",
    "             'num_components':150,\n",
    "             'sparse_param':0.5,\n",
    "             'smooth_param':2.,\n",
    "             'init':'convex',\n",
    "             'maxcount':50,\n",
    "             'verbose':10}\n",
    "sica_param = {'config_name':'sica150',\n",
    "              'num_components':150}"
   ]
  },
  {
   "cell_type": "markdown",
   "metadata": {},
   "source": [
    "The following cell is another long-runner (> 15min). "
   ]
  },
  {
   "cell_type": "code",
   "execution_count": null,
   "metadata": {
    "collapsed": false
   },
   "outputs": [],
   "source": [
    "# apply factorizations\n",
    "# this is another long running calculation. Consider loading cached data if you're in a hurry.\n",
    "\n",
    "for measid in measids:\n",
    "    for factorizer, param in [(ia.NNMF, nmf_param), (ia.sICA, sica_param)]:\n",
    "        print(\"measurement {}, {}\".format(measid, factorizer))\n",
    "        f = factorizer(**param)( ios_data[measid]['ts'])\n",
    "        f.base._series[np.isnan(f.base._series)] = 0\n",
    "    \n",
    "        results={}\n",
    "        results['factorization'] = f \n",
    "        results['spec'] = ia.TrialMean()(ia.CutOut(more_param['odor_response'])(f))\n",
    "        results['odor_response'] = ia.SingleSampleResponse()(results['spec'])\n",
    "        results['t2t_cor'] = ia.CalcStimulusDrive()(results['spec'])\n",
    "    \n",
    "        ios_data[measid][param['config_name']] = results"
   ]
  },
  {
   "cell_type": "markdown",
   "metadata": {},
   "source": [
    "Use the two cells below to save/load the results for later."
   ]
  },
  {
   "cell_type": "code",
   "execution_count": null,
   "metadata": {
    "collapsed": true
   },
   "outputs": [],
   "source": [
    "#caching data\n",
    "#cPickle.dump(ios_data, open('cached_ios_decomp.pik','w'))"
   ]
  },
  {
   "cell_type": "code",
   "execution_count": null,
   "metadata": {
    "collapsed": true
   },
   "outputs": [],
   "source": [
    "#loading cached results\n",
    "#ios_data = cPickle.load(open('cached_ios_decomp.pik', 'r'))"
   ]
  },
  {
   "cell_type": "code",
   "execution_count": null,
   "metadata": {
    "collapsed": true
   },
   "outputs": [],
   "source": [
    "# helper function to plot timecourses\n",
    "rep_param = defaultdict(lambda: {'linewidth':1, 'ls':'--', 'color':'0.8'})\n",
    "rep_param.update({0:{'linewidth':0.6, 'ls':'--' , 'color':'b','marker':'.', 'ms':2, 'dashes':(2,2)}, \n",
    "                  1:{'linewidth':0.6, 'ls':'--', 'color':'g', 'marker':'.','ms':2, 'dashes':(2,2), 'mec':'0.4'}})\n",
    "\n",
    "def timeplot(ax, data, mode):\n",
    "    xtime = np.arange(data.num_timepoints)\n",
    "    stimpos_dict = defaultdict(list)\n",
    "    for lab_ind, lab in enumerate(data.label_stimuli):\n",
    "        stimpos_dict[lab].append(lab_ind)\n",
    "    for stim_num, stim in enumerate(stimpos_dict.keys()):\n",
    "        for stimrep, stimpos in enumerate(stimpos_dict[stim]):\n",
    "            xpoints = xtime + stim_num*data.num_timepoints                 \n",
    "            if stim_num == 0: # plot with legend\n",
    "                ax.plot(xpoints, data.trial_shaped()[stimpos,:,mode], label='trial %d'%(stimrep+1), **rep_param[stimrep])\n",
    "            else:\n",
    "                ax.plot(xpoints, data.trial_shaped()[stimpos,:,mode],**rep_param[stimrep])\n",
    "\n",
    "    myxticks = np.hstack([xtime+i*data.num_timepoints for i in range(len(stimpos_dict))])\n",
    "    yticks = [0,1,2]\n",
    "    ax.set_yticks(yticks)\n",
    "    ax.set_yticklabels(yticks)\n",
    "    ax.yaxis.set_tick_params(labelsize=7)\n",
    "    ax.set_xticks(range(0, len(stimpos_dict)*5, 5))\n",
    "    ax.set_xticklabels([])\n",
    "    ax.set_xlim((0,len(stimpos_dict)*5))\n",
    "    ax.yaxis.set_ticks_position('right')"
   ]
  },
  {
   "cell_type": "heading",
   "level": 4,
   "metadata": {},
   "source": [
    "Properties of MF components"
   ]
  },
  {
   "cell_type": "markdown",
   "metadata": {},
   "source": [
    "In both NMF and sICA some of the extracted components resembled in their characteristics glomeruli, both in the spatial extent and the activation course. But other rather look like parts of blood vessels or noise.\n",
    "To distinguish putative glomeruli components from the rest we exploited the trial-to-trial correlations $r_k^{\\text{t2t}}$ of the components odour spectra. "
   ]
  },
  {
   "cell_type": "code",
   "execution_count": null,
   "metadata": {
    "collapsed": false
   },
   "outputs": [],
   "source": [
    "fig_dim = np.array((10, 20))*1.5\n",
    "fig = plt.figure(figsize=fig_dim)\n",
    "gs_outer = gridspec.GridSpec(2,2, top=0.96)\n",
    "\n",
    "measid = '111210sph'\n",
    "nmf_toplot = nmf_param['config_name']\n",
    "toplot2 = sica_param['config_name']\n",
    "\n",
    "for toplot_ix, toplot in enumerate([nmf_toplot, toplot2]):\n",
    "    t2t= ios_data[measid][toplot]['t2t_cor']._series.flatten()\n",
    "    sort_id = np.argsort(t2t)    \n",
    "    for block_ix, block in enumerate([sort_id[:10], sort_id[80:90]]):\n",
    "        gs = gridspec.GridSpecFromSubplotSpec(10, 1, subplot_spec=gs_outer[block_ix, toplot_ix])\n",
    "        for subpos, comp_idx in enumerate(block):\n",
    "            comp = ios_data[measid][toplot]['factorization']\n",
    "            gs_inner = gridspec.GridSpecFromSubplotSpec(1,2, subplot_spec = gs[subpos, 0], width_ratios=[1,3])\n",
    "            ax = fig.add_subplot(gs_inner[0])\n",
    "            ax.imshow(ios_data[measid]['bg'], interpolation='none', cmap=plt.cm.bone, vmin=-1, vmax=1, extent=[0, 83, 0, 63])\n",
    "            pixel_parti = comp.base.shaped2D()[comp_idx]\n",
    "            im_rgba = plt.cm.jet((pixel_parti+1)/2)\n",
    "            alpha = im_rgba[:,:,3]\n",
    "            alpha[np.abs(pixel_parti)<0.2]=0\n",
    "            im_rgba[:,:,3] = alpha\n",
    "            ax.imshow(im_rgba, interpolation='none')\n",
    "            if (subpos == 0):\n",
    "                ax.set_title(toplot, size=global_fs+2)\n",
    "            no_ticks(ax)\n",
    "            ax = fig.add_subplot(gs_inner[1])\n",
    "            timeplot(ax, comp, comp_idx)\n",
    "            if (subpos == 0):\n",
    "                if (block_ix == 0):\n",
    "                   ax.set_title('Components with highest trial-to-trial correlation', size=global_fs+2)\n",
    "                else:\n",
    "                   ax.set_title('Components with low trial-to-trial correlation', size=global_fs+2) \n",
    "            ax.text(0.05,0.8, 't2t: %.2f'%(1-t2t[comp_idx]), size=global_fs, transform=ax.transAxes)\n",
    "plt.show()"
   ]
  },
  {
   "cell_type": "markdown",
   "metadata": {},
   "source": [
    "__Fig. 10__ Exemplary extracted NMF (left column) and sICA components (right column). Some show spatio-temporal characteristics of glomeruli with a high activation similarity for stimuli repetition (top block).\n",
    "Other components exhibit rather low stimulus reproducibility (bottom block). This might be glomeruli low and therefore noisy activation, but also to a great extend border artefacts or blood vessel induced activation.  "
   ]
  },
  {
   "cell_type": "markdown",
   "metadata": {},
   "source": [
    "In general the distribution of $r_k^{\\text{t2t}}$ values were roughly bimodal for both methods with a population of highly stimuli dependent components"
   ]
  },
  {
   "cell_type": "code",
   "execution_count": null,
   "metadata": {
    "collapsed": false
   },
   "outputs": [],
   "source": [
    "figsize = np.array((5,2))*2\n",
    "fig = plt.figure(figsize=figsize)\n",
    "gs = gridspec.GridSpec(1,2, wspace=0.5, left=0.15, top=0.8, bottom=0.2)\n",
    "animal_colors = ['0.8','0.6','0.4'][:len(measids)]\n",
    "\n",
    "ax = fig.add_subplot(gs[0])\n",
    "ax.text(-0.12, 1.05, '(a)', transform=ax.transAxes,\n",
    "                fontsize=fs_num, fontweight='bold', va='bottom', ha='right') \n",
    "t2t_all = [1-ios_data[m][nmf_toplot]['t2t_cor']._series.squeeze() for m in measids]\n",
    "ax.hist(t2t_all, np.linspace(-1,1,41), histtype='barstacked',color=animal_colors, \n",
    "        label=['animal a','animal b','animal c'], linewidth=0.5)\n",
    "lg = ax.legend(loc = 'upper left', numpoints=1, prop={'size':global_fs}, bbox_to_anchor = [0.01, 1.2, 0., 0.],  \n",
    "        labelspacing=0.1, handlelength=1, handletextpad=0.3, frameon=True)\n",
    "\n",
    "#decorate\n",
    "ax.xaxis.set_tick_params(labelsize=global_fs, pad=2)\n",
    "ax.yaxis.set_tick_params(labelsize=global_fs, pad=2)\n",
    "ax.set_ylabel('# NMF comp.', fontsize=global_fs, labelpad=2)\n",
    "ax.set_xlim(-0.5,1.1)\n",
    "myylim = ax.get_ylim()\n",
    "ax.set_xticks([-0.5,0,0.5,1])\n",
    "ax.set_ylim(myylim)\n",
    "ax.set_xlabel(r'$cor_{t2t}$', fontsize=global_fs, labelpad=0)\n",
    "ax.set_title('NMF', size=global_fs)\n",
    "\n",
    "\n",
    "ax = fig.add_subplot(gs[1])\n",
    "ax.text(-0.12, 1.05, '(b)', transform=ax.transAxes,\n",
    "                fontsize=fs_num, fontweight='bold', va='bottom', ha='right') \n",
    "t2t_all = [1-ios_data[m][toplot2]['t2t_cor']._series.squeeze() for m in measids]\n",
    "ax.hist(t2t_all, np.linspace(-1,1,41), histtype='barstacked' , color=animal_colors, \n",
    "        label=['animal a','animal b','animal c'], linewidth=0.5)\n",
    "\n",
    "#decorate\n",
    "ax.xaxis.set_tick_params(labelsize=global_fs, pad=2)\n",
    "ax.yaxis.set_tick_params(labelsize=global_fs, pad=2)\n",
    "ax.set_ylabel('# sICA comp.', fontsize=global_fs, labelpad=2)\n",
    "ax.set_xlabel(r'$cor_{t2t}$', fontsize=global_fs, labelpad=0)\n",
    "ax.set_xlim(-0.5,1.1)\n",
    "ax.set_ylim(myylim)\n",
    "ax.set_title('sICA',size=global_fs)\n",
    "ax.set_xticks([-0.5,0,0.5,1])\n",
    "\n",
    "\n",
    "plt.show()"
   ]
  },
  {
   "cell_type": "markdown",
   "metadata": {},
   "source": [
    "__Fig. 11__ Trial-to-trial correlations of (a) NMF and (b) sICA components. They were roughly bimodal distributed."
   ]
  },
  {
   "cell_type": "heading",
   "level": 4,
   "metadata": {},
   "source": [
    "Comparison to anatomical outlines"
   ]
  },
  {
   "cell_type": "markdown",
   "metadata": {},
   "source": [
    "We expected components with high $cor_{t2t}$ to be glomeruli and compared them to the anatomical outlines.\n",
    "Considering the ambiguity of the anatomical outlines, the extracted components matched them very well (Fig. 12). \n",
    "The following observations could be made:\n",
    "\n",
    "1. Components with $r^{\\text{t2t}}>0.7$ corresponded well to anatomical glomeruli outlines. The same holds true for components with $r^{\\text{t2t}}>0.5$ except a few cases where components rather resembled blood vessel or other artefacts\n",
    "2. Many glomeruli are detected by both methods, but some were solely extracted by NMF or exhibited a higher $r^{\\text{t2t}}$ in NMF than in sICA. \n",
    "3. In some cases two NMF components were located within one anatomical outline. It indicates a different temporal activation of both parts which probably is an artefact of underlying blood vessels or the bandpass filtering. Nevertheless, this cases of split glomeruli were quite rare.\n",
    "\n",
    "In general the observations were in accordance to the results on the surrogate dataset.\n",
    "NMF yielded higher source recovery than sICA with a more precise temporal reconstruction, e.g. a higher trial-to-trial correlation. "
   ]
  },
  {
   "cell_type": "code",
   "execution_count": null,
   "metadata": {
    "collapsed": false
   },
   "outputs": [],
   "source": [
    "figsize = np.array((9,3*len(measids)))*2\n",
    "fig = plt.figure(figsize=figsize)\n",
    "gs = gridspec.GridSpec(len(measids),2)\n",
    "\n",
    "# set colors for pixel participation\n",
    "strongglom = [(0.4,0.4,0.8), (0.1,0.1,0.2)]\n",
    "weakglom = [(0.6,0.8,0.6), (0.1,0.2,0.1)] \n",
    "# set contourlines\n",
    "contourborders = [0.3,0.7,1]\n",
    "\n",
    "for ix, measid in enumerate(measids):\n",
    "       \n",
    "    bg = ios_data[measid]['bg']\n",
    "    gloms = ios_data[measid]['gloms']\n",
    "    \n",
    "    for column, toplot in enumerate([nmf_toplot, toplot2]):\n",
    "        ax = fig.add_subplot(gs[ix,column])\n",
    "        ax.imshow(bg[:, :], cmap=plt.cm.bone, extent=[0, 83, 0, 63])\n",
    "        ax.hold(True)\n",
    "        for j, b in enumerate(ios_data[measid][toplot]['spec'].base.shaped2D()):\n",
    "            if ios_data[measid][toplot]['t2t_cor']._series[0,j] < 0.3:\n",
    "                ax.contourf(np.abs(b), [0.3, 0.8, 1], extent=[0, 83, 63, 0], colors=strongglom, alpha=0.7)\n",
    "            elif ios_data[measid][toplot]['t2t_cor']._series[0,j] < 0.5:\n",
    "                ax.contourf(np.abs(b), [0.3, 0.8, 1], extent=[0, 83, 63, 0], colors=weakglom, alpha=0.7)  \n",
    "        for glom in gloms:\n",
    "            ax.contour(glom, [0.3], extent=[0, 83, 63, 0], colors=['y'], linewidths=1)        \n",
    "        no_ticks(ax)\n",
    "        \n",
    "        ax.set_title(toplot)\n",
    "        if column ==0:\n",
    "            ax.set_ylabel('animal %d'%ix)\n",
    "\n",
    "# add colorbars\n",
    "axglom_strong = fig.add_axes([0.1, 0.93, 0.18, 0.01])\n",
    "axglom_weak = fig.add_axes([0.1, 0.95, 0.18, 0.01])\n",
    "\n",
    "bararray = np.array([range(11)]*2)/10.\n",
    "axglom_strong.contourf(bararray, contourborders, colors=strongglom)\n",
    "axglom_strong.set_yticks([])\n",
    "axglom_strong.set_ylabel(r'$cor_{t2t}>0.7:$', rotation='horizontal', size=global_fs)\n",
    "axglom_strong.set_xticks([i*10 for i in contourborders[:-1]])\n",
    "axglom_strong.set_xticklabels(contourborders[:-1], fontsize=global_fs)\n",
    "axglom_strong.set_xlabel('pixel participation', size=global_fs)\n",
    "\n",
    "axglom_weak.contourf(bararray,contourborders, colors=weakglom)\n",
    "axglom_weak.set_yticks([])\n",
    "axglom_weak.set_ylabel(r'$cor_{t2t}>0.5:$', rotation='horizontal', size=global_fs)\n",
    "axglom_weak.set_xticks([i*10 for i in contourborders[:-1]])\n",
    "axglom_weak.set_xticklabels([])            \n",
    "           \n",
    "plt.show()"
   ]
  },
  {
   "cell_type": "markdown",
   "metadata": {},
   "source": [
    "__Fig. 12__ Contour faces of pixel participation of stimulus driven components ($r^{t2t}_k>0.5$) and highly stimulus driven components ($r^{t2t}_k>0.7$) compared to anatomical outlined glomeruli (yellow) for NMF (left) and sICA (right)."
   ]
  },
  {
   "cell_type": "heading",
   "level": 4,
   "metadata": {},
   "source": [
    "Comparison of odor spectra"
   ]
  },
  {
   "cell_type": "markdown",
   "metadata": {},
   "source": [
    "Finally, we asked for the coincidence of activations of glomeruli extracted by both methods, especially with regard to the confinement of NMF to positive activations. \n",
    "To asses this we investigated the most reliable extracted components in sICA with $r^{t\\text{2t}}>0.7$. \n",
    "We matched each of those sICA components to the NMF component it exhibited the highest spatial correlation. \n",
    "The comparison of odour responses for the matched components revealed a general high correlation ($r=0.95$) of both methods for reliable extracted sources. \n",
    "It furthermore showed that sICA extracts only a few and small negative signals which are not present in NMF. Although this could indicate that our assumption of purely excitatory olfactory activation is been mildly impaired, negative values in sICA might just as well be artefacts of the initial highpass filtering."
   ]
  },
  {
   "cell_type": "code",
   "execution_count": null,
   "metadata": {
    "collapsed": true
   },
   "outputs": [],
   "source": [
    "matched_spec = {}\n",
    "for measid in measids:\n",
    "\n",
    "    # match spatial\n",
    "    data1 = ios_data[measid][nmf_toplot]['spec']\n",
    "    high_cor_components = np.where(ios_data[measid][toplot2]['t2t_cor']._series.squeeze()<0.3)[0]\n",
    "    data2 = ios_data[measid][toplot2]['spec']\n",
    "\n",
    "    num = len(high_cor_components)\n",
    "    matchdist = (1-squareform(pdist(\n",
    "                         np.hstack([data2.base._series[high_cor_components].T, data1.base._series.T]).T,\n",
    "                         'correlation'))[:num,num:])\n",
    "    match = np.argmax(matchdist, 1)\n",
    "    matched_spec[measid] = [list(high_cor_components), list(match)]"
   ]
  },
  {
   "cell_type": "code",
   "execution_count": null,
   "metadata": {
    "collapsed": false
   },
   "outputs": [],
   "source": [
    "figsize = np.array((2,2))*3\n",
    "fig = plt.figure(figsize=figsize)\n",
    "ax = fig.add_axes([0.2,0.2,0.7,0.7])\n",
    "\n",
    "specs1, specs2 = [], []\n",
    "for ix, measid in enumerate(measids):\n",
    "    \n",
    "    spec1 = ios_data[measid][nmf_toplot]['spec']._series[:,matched_spec[measid][1]]\n",
    "    spec2 = ios_data[measid][toplot2]['spec']._series[:,matched_spec[measid][0]]\n",
    "\n",
    "    specs1.append(spec1)\n",
    "    specs2.append(spec2)\n",
    "    ax.scatter(spec1, spec2, marker='.',  s = 40, facecolor = 'none', edgecolor = ['r', 'g','b'][ix],\n",
    "               label='animal %s'%ix, alpha=0.5)\n",
    "    \n",
    "slope, intercept, r_value, p_value, std_err = stats.linregress(np.hstack([i.flatten() for i in specs1]),\n",
    "                                                               np.hstack([i.flatten() for i in specs2]))\n",
    "ax.plot([0,4],np.array([0,4])*slope+intercept, 'k')\n",
    "ax.set_xlim(-1,5)\n",
    "ax.set_ylim(-1,5)\n",
    "ax.xaxis.set_tick_params(labelsize=global_fs, pad=2)\n",
    "ax.yaxis.set_tick_params(labelsize=global_fs, pad=2)\n",
    "ax.set_ylabel('odor response sICA', fontsize=global_fs, labelpad=2)\n",
    "ax.set_xlabel('odor response NMF', fontsize=global_fs, labelpad=2)\n",
    "ax.text(3.5,3.5,'r = %.2f'%r_value, fontsize=global_fs,)\n",
    "ax.legend(loc = 'upper left', scatterpoints=1, prop={'size':global_fs}, bbox_to_anchor = [0.01, 1, 0., 0.], labelspacing=0.1, handlelength=1, handletextpad=0.1, frameon=False)\n",
    "plt.show()"
   ]
  },
  {
   "cell_type": "markdown",
   "metadata": {},
   "source": [
    "__Fig. 13__  Comparison of NMF an sICA odour responses for components extracted in sICA with $r^{t2t}>0.7$. The odour responses were highly similar."
   ]
  },
  {
   "cell_type": "heading",
   "level": 4,
   "metadata": {},
   "source": [
    "Excess of NMF components"
   ]
  },
  {
   "cell_type": "markdown",
   "metadata": {},
   "source": [
    "To understand the increased number of high correlation NMF components compared to sICA components we examined for all NMF components with  $r^{t2t}>0.7$ the spatial best matching sICA components (Figure 14). One can identify three reasons: \n",
    "\n",
    "1. Some sICA components group more glomeruli together than NMF components. Usually only one of the NMF components is highly similar in its odor spectrum (for example components 16/35 or 26/45).\n",
    "2. Some sICA components exhibit significant non-local contributions and hence a lower trial-to-trial correlation (for example components 29 and 40).\n",
    "3. For some NMF component there has not been extracted any sICA component at the same spatial location (for example components 72,75 and 76). "
   ]
  },
  {
   "cell_type": "code",
   "execution_count": null,
   "metadata": {
    "collapsed": true
   },
   "outputs": [],
   "source": [
    "matched_spec_rev = {}\n",
    "for measid in measids:\n",
    "\n",
    "    # match spatial\n",
    "    data1 = ios_data[measid][toplot2]['spec']\n",
    "    data2 = ios_data[measid][nmf_toplot]['spec']\n",
    "    high_cor_components = np.where(ios_data[measid][nmf_toplot]['t2t_cor']._series.squeeze()<0.3)[0]\n",
    "    \n",
    "\n",
    "    num = len(high_cor_components)\n",
    "    matchdist = (1-squareform(pdist(\n",
    "                         np.hstack([data2.base._series[high_cor_components].T, data1.base._series.T]).T,\n",
    "                         'correlation'))[:num,num:])\n",
    "    match = np.argmax(np.abs(matchdist), 1)\n",
    "    # reorder after macht quality\n",
    "    reorder = np.argsort(np.max(np.abs(matchdist), 1))[::-1]\n",
    "    \n",
    "    matched_spec_rev[measid] = [list(high_cor_components[reorder]), list(match[reorder])]"
   ]
  },
  {
   "cell_type": "code",
   "execution_count": null,
   "metadata": {
    "collapsed": false
   },
   "outputs": [],
   "source": [
    "measid = '111222sph'\n",
    "\n",
    "num_rows =  len(matched_spec_rev[measid][0])\n",
    "figsize = np.array((3, num_rows))*3\n",
    "fig = plt.figure(figsize = figsize)\n",
    "gs = gridspec.GridSpec(num_rows,1, top=0.97, hspace=0.5, left=0.05)\n",
    "\n",
    "#np.argsort(ios_data[measid][toplot2]['t2t_cor']._series[0,match_id2])\n",
    "\n",
    "for ix, (match_id1, match_id2) in enumerate(zip(*matched_spec_rev[measid])):\n",
    "    \n",
    "    gs_inner = gridspec.GridSpecFromSubplotSpec(1,3, subplot_spec=gs[ix])\n",
    "    spec1 = ios_data[measid][toplot2]['spec']._series[:,match_id2]\n",
    "    spec2 = ios_data[measid][nmf_toplot]['spec']._series[:,match_id1]\n",
    "    \n",
    "    mymin = np.floor(np.min(np.array([spec1, spec2]))*10)/10\n",
    "    mymax = np.ceil(np.max(np.array([spec1, spec2]))*10)/10\n",
    "    \n",
    "    ax = fig.add_subplot(gs_inner[0], aspect='equal')\n",
    "    ax.plot(spec1, spec2, 'o')\n",
    "    ax.set_xlim([mymin, mymax])\n",
    "    ax.set_ylim([mymin, mymax])\n",
    "    ax.set_xticks([0, mymax])\n",
    "    ax.set_yticks([0, mymax])\n",
    "    \n",
    "    slope, intercept, r_value, p_value, std_err = stats.linregress(spec1, spec2)\n",
    "    ax.text(0.05,0.9,'cor: %.2f'%r_value, size=global_fs, transform=ax.transAxes)\n",
    "    ax.text(-0.25,1.1,'(%d)'%ix, size=global_fs+4, transform=ax.transAxes)\n",
    "    ax.set_xlabel('odour response sICA', size=global_fs)\n",
    "    ax.set_ylabel('odour response NMF', size=global_fs)\n",
    "    \n",
    "    \n",
    "    ax = fig.add_subplot(gs_inner[1])\n",
    "    ax.imshow(ios_data[measid][nmf_toplot]['spec'].base.shaped2D()[match_id1], vmin=-1, vmax=1)\n",
    "    ax.set_xlabel('t2t: %.2f'%(1-ios_data[measid][nmf_toplot]['t2t_cor']._series[0,match_id1]), size=global_fs, y=0.9)\n",
    "    ax.set_title('pixel participation NMF', size=global_fs)\n",
    "    no_ticks(ax)\n",
    "    \n",
    "    ax = fig.add_subplot(gs_inner[2])\n",
    "    ax.imshow(ios_data[measid][toplot2]['spec'].base.shaped2D()[match_id2], vmin=-1, vmax=1)\n",
    "    ax.contour(ios_data[measid][nmf_toplot]['spec'].base.shaped2D()[match_id1], [0.5], lw=1, colors=['w'])\n",
    "    ax.set_xlabel('t2t: %.2f'%(1-ios_data[measid][toplot2]['t2t_cor']._series[0,match_id2]), size=global_fs, y=0.9)\n",
    "    ax.set_title('pixel participation sICA', size=global_fs)\n",
    "    no_ticks(ax)\n",
    "    \n",
    "plt.show()"
   ]
  },
  {
   "cell_type": "markdown",
   "metadata": {},
   "source": [
    "__Fig. 14__ Spatially best matching sICA components for all NMF components with high trial-to-trial correlation $cor_{t2t}>0.7$. First panel of each row shows odour response similarity of the matched components. Second and third row show pixel participation of NMF respectivly sICA components. White contours indicate position of strong pixel participation in NMF component. Components are sorted according to spatial matching quality. "
   ]
  }
 ],
 "metadata": {
  "kernelspec": {
   "display_name": "Python 2",
   "language": "python",
   "name": "python2"
  },
  "language_info": {
   "codemirror_mode": {
    "name": "ipython",
    "version": 2
   },
   "file_extension": ".py",
   "mimetype": "text/x-python",
   "name": "python",
   "nbconvert_exporter": "python",
   "pygments_lexer": "ipython2",
   "version": "2.7.13"
  },
  "name": ""
 },
 "nbformat": 4,
 "nbformat_minor": 0
}
